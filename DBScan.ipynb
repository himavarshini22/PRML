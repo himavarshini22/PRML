{
 "cells": [
  {
   "cell_type": "markdown",
   "metadata": {},
   "source": [
    "Cluster the dataset B using DBScan. You may use the inbuilt DBscan function in sklearn  Explore the eps and min_samples parameter.\n",
    "\n",
    "Give a scatterplot of the datapoints that are not labelled as outlier by DBScan. Color the data points based on cluster label.\n",
    "\n",
    "Use eps values (0.1, 0.3 and 1) and min_samples values (3,10,30) for a total of 9 plots. Summarise your conclusions in the textwrite cell."
   ]
  },
  {
   "cell_type": "code",
   "execution_count": null,
   "metadata": {},
   "outputs": [],
   "source": [
    "import numpy as np\n",
    "import matplotlib.pyplot as plt\n",
    "from sklearn.cluster import DBSCAN\n",
    "\n",
    "eps = np.array([0.1,0.3,1])\n",
    "min_samples = np.array([3,10,30])\n",
    "dataB = np.load(\"Data/Dataset_B.npy\")\n",
    "\n",
    "fig, axs = plt.subplots(len(eps),len(min_samples), figsize=(15, 15))\n",
    "for i, ep in enumerate(eps):\n",
    "  for j, min in enumerate(min_samples):\n",
    "    clustering = DBSCAN(eps=ep, min_samples=min).fit(dataB)\n",
    "    labels = clustering.labels_\n",
    "    non_outliers = labels != -1\n",
    "    # Plot the results\n",
    "    X  = dataB[labels!=-1]\n",
    "    ax = axs[i, j]\n",
    "    scatter = ax.scatter(X[:,0] , X[:,1], c=labels[non_outliers], cmap='viridis')\n",
    "    ax.set_title(f'eps = {ep}, min_samples = {min}')\n",
    "    ax.set_xlabel('Feature 1')\n",
    "    ax.set_ylabel('Feature 2')\n",
    "\n",
    "    # if j == len(min_samples) - 1:\n",
    "    #     fig.colorbar(scatter, ax=ax)\n",
    "plt.tight_layout()\n",
    "plt.show()"
   ]
  }
 ],
 "metadata": {
  "language_info": {
   "name": "python"
  }
 },
 "nbformat": 4,
 "nbformat_minor": 2
}
